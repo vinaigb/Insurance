{
 "cells": [
  {
   "cell_type": "markdown",
   "metadata": {},
   "source": [
    "# Insurance Premium Modelling"
   ]
  },
  {
   "cell_type": "code",
   "execution_count": 1,
   "metadata": {},
   "outputs": [],
   "source": [
    "import pandas as pd \n",
    "import numpy as np \n",
    "import matplotlib as mpl \n",
    "import matplotlib.pyplot as plt \n",
    "import seaborn as sns \n",
    "from sklearn.model_selection import train_test_split "
   ]
  },
  {
   "cell_type": "code",
   "execution_count": 2,
   "metadata": {},
   "outputs": [
    {
     "name": "stdout",
     "output_type": "stream",
     "text": [
      "<class 'pandas.core.frame.DataFrame'>\n",
      "RangeIndex: 678013 entries, 0 to 678012\n",
      "Data columns (total 12 columns):\n",
      " #   Column      Non-Null Count   Dtype  \n",
      "---  ------      --------------   -----  \n",
      " 0   IDpol       678013 non-null  float64\n",
      " 1   ClaimNb     678013 non-null  float64\n",
      " 2   EXPOSURE    678013 non-null  float64\n",
      " 3   Area        678013 non-null  object \n",
      " 4   POWER       678013 non-null  float64\n",
      " 5   AGECAR      678013 non-null  float64\n",
      " 6   AGEDRIVER   678013 non-null  float64\n",
      " 7   BonusMalus  678013 non-null  float64\n",
      " 8   BRAND       678013 non-null  object \n",
      " 9   GAZ         678013 non-null  object \n",
      " 10  DENSITY     678013 non-null  float64\n",
      " 11  REGION      678013 non-null  object \n",
      "dtypes: float64(8), object(4)\n",
      "memory usage: 62.1+ MB\n"
     ]
    },
    {
     "data": {
      "text/html": [
       "<div>\n",
       "<style scoped>\n",
       "    .dataframe tbody tr th:only-of-type {\n",
       "        vertical-align: middle;\n",
       "    }\n",
       "\n",
       "    .dataframe tbody tr th {\n",
       "        vertical-align: top;\n",
       "    }\n",
       "\n",
       "    .dataframe thead th {\n",
       "        text-align: right;\n",
       "    }\n",
       "</style>\n",
       "<table border=\"1\" class=\"dataframe\">\n",
       "  <thead>\n",
       "    <tr style=\"text-align: right;\">\n",
       "      <th></th>\n",
       "      <th>IDpol</th>\n",
       "      <th>ClaimNb</th>\n",
       "      <th>EXPOSURE</th>\n",
       "      <th>POWER</th>\n",
       "      <th>AGECAR</th>\n",
       "      <th>AGEDRIVER</th>\n",
       "      <th>BonusMalus</th>\n",
       "      <th>DENSITY</th>\n",
       "    </tr>\n",
       "  </thead>\n",
       "  <tbody>\n",
       "    <tr>\n",
       "      <th>count</th>\n",
       "      <td>6.780130e+05</td>\n",
       "      <td>678013.000000</td>\n",
       "      <td>678013.000000</td>\n",
       "      <td>678013.000000</td>\n",
       "      <td>678013.000000</td>\n",
       "      <td>678013.000000</td>\n",
       "      <td>678013.000000</td>\n",
       "      <td>678013.000000</td>\n",
       "    </tr>\n",
       "    <tr>\n",
       "      <th>mean</th>\n",
       "      <td>2.621857e+06</td>\n",
       "      <td>0.053247</td>\n",
       "      <td>0.528750</td>\n",
       "      <td>6.454631</td>\n",
       "      <td>7.044265</td>\n",
       "      <td>45.499122</td>\n",
       "      <td>59.761502</td>\n",
       "      <td>1792.422405</td>\n",
       "    </tr>\n",
       "    <tr>\n",
       "      <th>std</th>\n",
       "      <td>1.641783e+06</td>\n",
       "      <td>0.240117</td>\n",
       "      <td>0.364442</td>\n",
       "      <td>2.050906</td>\n",
       "      <td>5.666232</td>\n",
       "      <td>14.137444</td>\n",
       "      <td>15.636658</td>\n",
       "      <td>3958.646564</td>\n",
       "    </tr>\n",
       "    <tr>\n",
       "      <th>min</th>\n",
       "      <td>1.000000e+00</td>\n",
       "      <td>0.000000</td>\n",
       "      <td>0.002732</td>\n",
       "      <td>4.000000</td>\n",
       "      <td>0.000000</td>\n",
       "      <td>18.000000</td>\n",
       "      <td>50.000000</td>\n",
       "      <td>1.000000</td>\n",
       "    </tr>\n",
       "    <tr>\n",
       "      <th>25%</th>\n",
       "      <td>1.157951e+06</td>\n",
       "      <td>0.000000</td>\n",
       "      <td>0.180000</td>\n",
       "      <td>5.000000</td>\n",
       "      <td>2.000000</td>\n",
       "      <td>34.000000</td>\n",
       "      <td>50.000000</td>\n",
       "      <td>92.000000</td>\n",
       "    </tr>\n",
       "    <tr>\n",
       "      <th>50%</th>\n",
       "      <td>2.272152e+06</td>\n",
       "      <td>0.000000</td>\n",
       "      <td>0.490000</td>\n",
       "      <td>6.000000</td>\n",
       "      <td>6.000000</td>\n",
       "      <td>44.000000</td>\n",
       "      <td>50.000000</td>\n",
       "      <td>393.000000</td>\n",
       "    </tr>\n",
       "    <tr>\n",
       "      <th>75%</th>\n",
       "      <td>4.046274e+06</td>\n",
       "      <td>0.000000</td>\n",
       "      <td>0.990000</td>\n",
       "      <td>7.000000</td>\n",
       "      <td>11.000000</td>\n",
       "      <td>55.000000</td>\n",
       "      <td>64.000000</td>\n",
       "      <td>1658.000000</td>\n",
       "    </tr>\n",
       "    <tr>\n",
       "      <th>max</th>\n",
       "      <td>6.114330e+06</td>\n",
       "      <td>16.000000</td>\n",
       "      <td>2.010000</td>\n",
       "      <td>15.000000</td>\n",
       "      <td>100.000000</td>\n",
       "      <td>100.000000</td>\n",
       "      <td>230.000000</td>\n",
       "      <td>27000.000000</td>\n",
       "    </tr>\n",
       "  </tbody>\n",
       "</table>\n",
       "</div>"
      ],
      "text/plain": [
       "              IDpol        ClaimNb       EXPOSURE          POWER  \\\n",
       "count  6.780130e+05  678013.000000  678013.000000  678013.000000   \n",
       "mean   2.621857e+06       0.053247       0.528750       6.454631   \n",
       "std    1.641783e+06       0.240117       0.364442       2.050906   \n",
       "min    1.000000e+00       0.000000       0.002732       4.000000   \n",
       "25%    1.157951e+06       0.000000       0.180000       5.000000   \n",
       "50%    2.272152e+06       0.000000       0.490000       6.000000   \n",
       "75%    4.046274e+06       0.000000       0.990000       7.000000   \n",
       "max    6.114330e+06      16.000000       2.010000      15.000000   \n",
       "\n",
       "              AGECAR      AGEDRIVER     BonusMalus        DENSITY  \n",
       "count  678013.000000  678013.000000  678013.000000  678013.000000  \n",
       "mean        7.044265      45.499122      59.761502    1792.422405  \n",
       "std         5.666232      14.137444      15.636658    3958.646564  \n",
       "min         0.000000      18.000000      50.000000       1.000000  \n",
       "25%         2.000000      34.000000      50.000000      92.000000  \n",
       "50%         6.000000      44.000000      50.000000     393.000000  \n",
       "75%        11.000000      55.000000      64.000000    1658.000000  \n",
       "max       100.000000     100.000000     230.000000   27000.000000  "
      ]
     },
     "execution_count": 2,
     "metadata": {},
     "output_type": "execute_result"
    }
   ],
   "source": [
    "import arff\n",
    "data_freq = arff.load('freMTPL2freq.arff') \n",
    "CONTRACTS = pd.DataFrame(data_freq, columns=[\"IDpol\", \"ClaimNb\", \"EXPOSURE\", \"Area\", \"POWER\", \"AGECAR\",\"AGEDRIVER\", \"BonusMalus\", \"BRAND\", \"GAZ\", \"DENSITY\", \"REGION\"])\n",
    "CONTRACTS.head()\n",
    "CONTRACTS.info()\n",
    "CONTRACTS.describe()"
   ]
  },
  {
   "cell_type": "markdown",
   "metadata": {},
   "source": [
    "# Calculating the average annualized frequency and its empirical variance.\n",
    "#### Actual number of claims in the database Yi\n",
    "#### Ei is the exposure\n",
    "#### Average annualized frequency m_N\n",
    "#### empirical variance S^2_N"
   ]
  },
  {
   "cell_type": "markdown",
   "metadata": {},
   "source": [
    "![Steps average annualized frequency and its empirical variance](1.png)"
   ]
  },
  {
   "cell_type": "code",
   "execution_count": 3,
   "metadata": {},
   "outputs": [
    {
     "name": "stdout",
     "output_type": "stream",
     "text": [
      "average = 0.10070308464041304  variance = 0.10929293731914318  phi = 1.0852988039979359\n"
     ]
    }
   ],
   "source": [
    "import numpy as np\n",
    "\n",
    "vY = CONTRACTS['ClaimNb']\n",
    "vE = CONTRACTS['EXPOSURE']\n",
    "\n",
    "m = np.sum(vY) / np.sum(vE)\n",
    "v = np.sum((vY - m * vE) ** 2) / np.sum(vE)\n",
    "\n",
    "average = m\n",
    "variance = v\n",
    "phi = v / m\n",
    "\n",
    "print(\"average =\", average, \" variance =\", variance, \" phi =\", phi)"
   ]
  },
  {
   "cell_type": "markdown",
   "metadata": {},
   "source": [
    "### For a Poisson distribution, phi should be equal to 1."
   ]
  },
  {
   "cell_type": "markdown",
   "metadata": {},
   "source": [
    "# Considering the case where X is the region of the driver ( Categorical Variable)"
   ]
  },
  {
   "cell_type": "markdown",
   "metadata": {},
   "source": [
    "![Steps average annualized frequency and its empirical variance](2.png)"
   ]
  },
  {
   "cell_type": "code",
   "execution_count": 4,
   "metadata": {},
   "outputs": [
    {
     "name": "stdout",
     "output_type": "stream",
     "text": [
      "Region: 'R82'\n",
      "Average = 0.11096552573862725  Variance = 0.11711805706825394  Phi = 1.0554454303593228\n",
      "Region: 'R22'\n",
      "Average = 0.12281746438680714  Variance = 0.12700557992565698  Phi = 1.0341003257131216\n",
      "Region: 'R72'\n",
      "Average = 0.09411983738060346  Variance = 0.10241105240596311  Phi = 1.0880921095499931\n",
      "Region: 'R31'\n",
      "Average = 0.10227888604407133  Variance = 0.11352128736310269  Phi = 1.109919082558125\n",
      "Region: 'R91'\n",
      "Average = 0.10498025675054383  Variance = 0.15868028408893062  Phi = 1.511525014327121\n",
      "Region: 'R52'\n",
      "Average = 0.09163842181593423  Variance = 0.09651804401276  Phi = 1.0532486494216042\n",
      "Region: 'R93'\n",
      "Average = 0.10916359197663394  Variance = 0.12133488138842634  Phi = 1.1114958677284787\n",
      "Region: 'R11'\n",
      "Average = 0.13168417189998127  Variance = 0.1438617911228666  Phi = 1.092475952479199\n",
      "Region: 'R24'\n",
      "Average = 0.08960899455283504  Variance = 0.09340771459910474  Phi = 1.0423921735226023\n",
      "Region: 'R94'\n",
      "Average = 0.13986921610498568  Variance = 0.16709363111270994  Phi = 1.1946419359874703\n",
      "Region: 'R83'\n",
      "Average = 0.081364364901261  Variance = 0.08530231762500765  Phi = 1.0483989855820237\n",
      "Region: 'R54'\n",
      "Average = 0.08671186594273134  Variance = 0.09240898911745994  Phi = 1.065701771179636\n",
      "Region: 'R26'\n",
      "Average = 0.10168428558845873  Variance = 0.1063856948285467  Phi = 1.0462353569470482\n",
      "Region: 'R53'\n",
      "Average = 0.09735721752327882  Variance = 0.1005487986936848  Phi = 1.0327821732337703\n",
      "Region: 'R73'\n",
      "Average = 0.09800418250738437  Variance = 0.10677229881767245  Phi = 1.0894667562746867\n",
      "Region: 'R42'\n",
      "Average = 0.10999773343924664  Variance = 0.11995011309168872  Phi = 1.0904780429674847\n",
      "Region: 'R25'\n",
      "Average = 0.0950750073440164  Variance = 0.09775746974608206  Phi = 1.0282141698118363\n",
      "Region: 'R21'\n",
      "Average = 0.13268852140054363  Variance = 0.1484961398352596  Phi = 1.1191332774520706\n",
      "Region: 'R41'\n",
      "Average = 0.07530400783666434  Variance = 0.07842112751496548  Phi = 1.0413938084817773\n",
      "Region: 'R43'\n",
      "Average = 0.10106150997253853  Variance = 0.10946280957200932  Phi = 1.0831305568435865\n",
      "Region: 'R74'\n",
      "Average = 0.10809707427635354  Variance = 0.11787757923365255  Phi = 1.0904789053984463\n",
      "Region: 'R23'\n",
      "Average = 0.0953525188211117  Variance = 0.10422167814925476  Phi = 1.0930144209906216\n"
     ]
    }
   ],
   "source": [
    "vX = CONTRACTS['REGION']\n",
    "unique_regions = vX.unique()\n",
    "\n",
    "for region in unique_regions:\n",
    "    vEi = CONTRACTS.loc[vX == region, 'EXPOSURE']\n",
    "    vYi = CONTRACTS.loc[vX == region, 'ClaimNb']\n",
    "    mi = sum(vYi) / sum(vEi)\n",
    "    vi = sum((vYi - mi * vEi) ** 2) / sum(vEi)\n",
    "    print(\"Region:\", region)\n",
    "    print(\"Average =\", mi, \" Variance =\", vi, \" Phi =\", vi / mi)"
   ]
  },
  {
   "cell_type": "markdown",
   "metadata": {},
   "source": [
    "### Assume that claims occurrence, for an insured, is driven by a homogeneous Poisson process, with intensity lamda\n"
   ]
  },
  {
   "cell_type": "markdown",
   "metadata": {},
   "source": [
    "# Poisson Regression"
   ]
  },
  {
   "cell_type": "markdown",
   "metadata": {},
   "source": [
    "![Steps average annualized frequency and its empirical variance](3.png)"
   ]
  },
  {
   "cell_type": "code",
   "execution_count": 5,
   "metadata": {},
   "outputs": [
    {
     "name": "stdout",
     "output_type": "stream",
     "text": [
      "lambda: 0.10070308464041304\n",
      "Weighted Mean: 0.10070308464041304\n",
      "Probabilities (0 to 3): [9.04201464e+01 9.10558766e+00 4.58480382e-01 1.53901296e-02]\n"
     ]
    }
   ],
   "source": [
    "#import numpy as np\n",
    "import pandas as pd\n",
    "from scipy.stats import poisson\n",
    "\n",
    "Y = CONTRACTS['ClaimNb']\n",
    "E = CONTRACTS['EXPOSURE']\n",
    "\n",
    "# Calculate lambda (rate parameter of Poisson distribution)\n",
    "lambda_val = np.sum(Y) / np.sum(E)\n",
    "print(\"lambda:\", lambda_val)\n",
    "\n",
    "# Weighted mean calculation\n",
    "weighted_mean = np.average(Y / E, weights=E)\n",
    "print(\"Weighted Mean:\", weighted_mean)\n",
    "\n",
    "# Calculate probabilities for Poisson distribution for values 0 to 3\n",
    "probabilities = poisson.pmf(np.arange(4), lambda_val) * 100\n",
    "print(\"Probabilities (0 to 3):\", probabilities)\n",
    "\n",
    "# Here we find probabilities of 0 - 3 claims\n"
   ]
  },
  {
   "cell_type": "code",
   "execution_count": 6,
   "metadata": {},
   "outputs": [
    {
     "name": "stderr",
     "output_type": "stream",
     "text": [
      "c:\\Users\\ADMIN\\anaconda3\\lib\\site-packages\\sklearn\\preprocessing\\_encoders.py:828: FutureWarning: `sparse` was renamed to `sparse_output` in version 1.2 and will be removed in 1.4. `sparse_output` is ignored unless you leave `sparse` to its default value.\n",
      "  warnings.warn(\n"
     ]
    },
    {
     "name": "stdout",
     "output_type": "stream",
     "text": [
      "                 Generalized Linear Model Regression Results                  \n",
      "==============================================================================\n",
      "Dep. Variable:                ClaimNb   No. Observations:               678013\n",
      "Model:                            GLM   Df Residuals:                   678009\n",
      "Model Family:                 Poisson   Df Model:                            3\n",
      "Link Function:                    Log   Scale:                          1.0000\n",
      "Method:                          IRLS   Log-Likelihood:            -1.4665e+05\n",
      "Date:                Mon, 22 Apr 2024   Deviance:                   2.2397e+05\n",
      "Time:                        07:34:53   Pearson chi2:                 1.94e+06\n",
      "No. Iterations:                     7   Pseudo R-squ. (CS):          0.0007521\n",
      "Covariance Type:            nonrobust                                         \n",
      "==============================================================================\n",
      "                 coef    std err          z      P>|z|      [0.025      0.975]\n",
      "------------------------------------------------------------------------------\n",
      "const         -2.1415      0.018   -115.901      0.000      -2.178      -2.105\n",
      "x1             0.0532      0.011      4.995      0.000       0.032       0.074\n",
      "x2            -0.0047      0.000    -12.742      0.000      -0.005      -0.004\n",
      "x3          2.151e-05   1.15e-06     18.699      0.000    1.93e-05    2.38e-05\n",
      "==============================================================================\n"
     ]
    }
   ],
   "source": [
    "import statsmodels.api as sm\n",
    "from sklearn.preprocessing import OneHotEncoder\n",
    "\n",
    "# Select categorical columns to encode\n",
    "categorical_cols = ['GAZ']\n",
    "y = CONTRACTS['ClaimNb']\n",
    "\n",
    "# Calculate offset (logarithm of EXPOSURE)\n",
    "offset = np.log(CONTRACTS['EXPOSURE'])\n",
    "\n",
    "# One-hot encode categorical columns\n",
    "encoder = OneHotEncoder(drop='first', sparse=False)\n",
    "X_encoded = encoder.fit_transform(CONTRACTS[categorical_cols])\n",
    "\n",
    "# Combine encoded categorical columns with numerical columns\n",
    "X_numerical = CONTRACTS[['AGEDRIVER', 'DENSITY']]\n",
    "X = np.concatenate((X_encoded, X_numerical), axis=1)\n",
    "\n",
    "# Add constant term to the independent variables\n",
    "X = sm.add_constant(X)\n",
    "\n",
    "# Fit the GLM with Poisson family\n",
    "reg = sm.GLM(y, X, family=sm.families.Poisson(), offset=offset).fit()\n",
    "\n",
    "# Display summary\n",
    "print(reg.summary())\n"
   ]
  },
  {
   "cell_type": "markdown",
   "metadata": {},
   "source": [
    "# A Poisson Regression to Model Yearly Claim Frequency"
   ]
  },
  {
   "cell_type": "markdown",
   "metadata": {},
   "source": [
    "#### Categorising the age of the car in two classes: less than 15 years old, and more than 15 years old:"
   ]
  },
  {
   "cell_type": "code",
   "execution_count": 7,
   "metadata": {},
   "outputs": [
    {
     "name": "stdout",
     "output_type": "stream",
     "text": [
      "float64\n",
      "0\n"
     ]
    }
   ],
   "source": [
    "import pandas as pd\n",
    "\n",
    "# Check the data type of the 'AGECAR' column\n",
    "print(CONTRACTS['AGECAR'].dtype)\n",
    "\n",
    "# If the data type is not numeric, convert it to numeric\n",
    "CONTRACTS['AGECAR'] = pd.to_numeric(CONTRACTS['AGECAR'], errors='coerce')\n",
    "\n",
    "# Check for any missing values after conversion\n",
    "print(CONTRACTS['AGECAR'].isnull().sum())\n",
    "\n",
    "# Now, apply the cut function\n",
    "bins = [0, 15, float('inf')]  # Categories: 0-15, 16-inf\n",
    "labels = ['0-15', '16-Inf']\n",
    "CONTRACTS['AGECAR'] = pd.cut(CONTRACTS['AGECAR'], bins=bins, labels=labels, include_lowest=True)\n"
   ]
  },
  {
   "cell_type": "code",
   "execution_count": 8,
   "metadata": {},
   "outputs": [
    {
     "name": "stdout",
     "output_type": "stream",
     "text": [
      "['0-15', '16-Inf']\n",
      "Categories (2, object): ['0-15' < '16-Inf']\n"
     ]
    }
   ],
   "source": [
    "levels = pd.unique(CONTRACTS['AGECAR'])\n",
    "\n",
    "print(levels)"
   ]
  },
  {
   "cell_type": "markdown",
   "metadata": {},
   "source": [
    "# Considering only B12 brand of car"
   ]
  },
  {
   "cell_type": "code",
   "execution_count": 9,
   "metadata": {},
   "outputs": [
    {
     "name": "stdout",
     "output_type": "stream",
     "text": [
      "   IDpol  ClaimNb  EXPOSURE Area  POWER AGECAR  AGEDRIVER  BonusMalus BRAND  \\\n",
      "0    1.0      1.0      0.10  'D'    5.0   0-15       55.0        50.0   B12   \n",
      "1    3.0      1.0      0.77  'D'    5.0   0-15       55.0        50.0   B12   \n",
      "2    5.0      1.0      0.75  'B'    6.0   0-15       52.0        50.0   B12   \n",
      "3   10.0      1.0      0.09  'B'    7.0   0-15       46.0        50.0   B12   \n",
      "4   11.0      1.0      0.84  'B'    7.0   0-15       46.0        50.0   B12   \n",
      "\n",
      "       GAZ  DENSITY REGION brandF  \n",
      "0  Regular   1217.0  'R82'    B12  \n",
      "1  Regular   1217.0  'R82'    B12  \n",
      "2   Diesel     54.0  'R22'    B12  \n",
      "3   Diesel     76.0  'R72'    B12  \n",
      "4   Diesel     76.0  'R72'    B12  \n"
     ]
    }
   ],
   "source": [
    "# Remove single quotes from the 'BRAND' column\n",
    "CONTRACTS['BRAND'] = CONTRACTS['BRAND'].str.replace(\"'\", \"\")\n",
    "\n",
    "# Create a new column 'brandF' based on the condition 'BRAND == \"B12\"'\n",
    "CONTRACTS['brandF'] = CONTRACTS['BRAND'].apply(lambda x: 'B12' if x == 'B12' else 'other')\n",
    "\n",
    "# Convert the 'brandF' column to categorical type\n",
    "CONTRACTS['brandF'] = pd.Categorical(CONTRACTS['brandF'], categories=['other', 'B12'])\n",
    "\n",
    "# Display the first few rows to verify the changes\n",
    "print(CONTRACTS.head())"
   ]
  },
  {
   "cell_type": "code",
   "execution_count": 10,
   "metadata": {},
   "outputs": [
    {
     "name": "stdout",
     "output_type": "stream",
     "text": [
      "                 Generalized Linear Model Regression Results                  \n",
      "==============================================================================\n",
      "Dep. Variable:                ClaimNb   No. Observations:               678013\n",
      "Model:                            GLM   Df Residuals:                   678006\n",
      "Model Family:                 Poisson   Df Model:                            6\n",
      "Link Function:                    Log   Scale:                          1.0000\n",
      "Method:                          IRLS   Log-Likelihood:            -1.4606e+05\n",
      "Date:                Mon, 22 Apr 2024   Deviance:                   2.2280e+05\n",
      "Time:                        07:35:12   Pearson chi2:                 1.81e+06\n",
      "No. Iterations:                     7   Pseudo R-squ. (CS):           0.002470\n",
      "Covariance Type:            nonrobust                                         \n",
      "=================================================================================\n",
      "                    coef    std err          z      P>|z|      [0.025      0.975]\n",
      "---------------------------------------------------------------------------------\n",
      "const            -2.1607      0.025    -87.020      0.000      -2.209      -2.112\n",
      "AGEDRIVER        -0.0050      0.000    -13.429      0.000      -0.006      -0.004\n",
      "DENSITY        1.618e-05   1.18e-06     13.766      0.000    1.39e-05    1.85e-05\n",
      "POWER            -0.0015      0.003     -0.557      0.577      -0.007       0.004\n",
      "AGECAR_16-Inf    -0.4048      0.024    -17.210      0.000      -0.451      -0.359\n",
      "brandF_B12        0.3384      0.013     26.898      0.000       0.314       0.363\n",
      "GAZ_Regular       0.0669      0.011      6.220      0.000       0.046       0.088\n",
      "=================================================================================\n"
     ]
    }
   ],
   "source": [
    "import statsmodels.api as sm\n",
    "import pandas as pd\n",
    "\n",
    "# Convert categorical variables into dummy variables\n",
    "X = pd.get_dummies(CONTRACTS[['AGEDRIVER', 'AGECAR', 'DENSITY', 'brandF', 'POWER', 'GAZ']], drop_first=True)\n",
    "\n",
    "# Add constant term to the independent variables\n",
    "X = sm.add_constant(X)\n",
    "\n",
    "# Calculate offset (logarithm of EXPOSURE)\n",
    "offset = np.log(CONTRACTS['EXPOSURE'])\n",
    "\n",
    "# Fit the GLM with Poisson family\n",
    "regp = sm.GLM(CONTRACTS['ClaimNb'], X, family=sm.families.Poisson(), offset=offset).fit()\n",
    "\n",
    "# Display summary\n",
    "print(regp.summary())\n"
   ]
  },
  {
   "cell_type": "markdown",
   "metadata": {},
   "source": [
    "# Regression for Claims Data"
   ]
  },
  {
   "cell_type": "code",
   "execution_count": 11,
   "metadata": {},
   "outputs": [
    {
     "name": "stdout",
     "output_type": "stream",
     "text": [
      "<class 'pandas.core.frame.DataFrame'>\n",
      "RangeIndex: 26639 entries, 0 to 26638\n",
      "Data columns (total 2 columns):\n",
      " #   Column       Non-Null Count  Dtype  \n",
      "---  ------       --------------  -----  \n",
      " 0   IDpol        26639 non-null  float64\n",
      " 1   PurePremium  26639 non-null  float64\n",
      "dtypes: float64(2)\n",
      "memory usage: 416.4 KB\n"
     ]
    },
    {
     "data": {
      "text/html": [
       "<div>\n",
       "<style scoped>\n",
       "    .dataframe tbody tr th:only-of-type {\n",
       "        vertical-align: middle;\n",
       "    }\n",
       "\n",
       "    .dataframe tbody tr th {\n",
       "        vertical-align: top;\n",
       "    }\n",
       "\n",
       "    .dataframe thead th {\n",
       "        text-align: right;\n",
       "    }\n",
       "</style>\n",
       "<table border=\"1\" class=\"dataframe\">\n",
       "  <thead>\n",
       "    <tr style=\"text-align: right;\">\n",
       "      <th></th>\n",
       "      <th>IDpol</th>\n",
       "      <th>PurePremium</th>\n",
       "    </tr>\n",
       "  </thead>\n",
       "  <tbody>\n",
       "    <tr>\n",
       "      <th>count</th>\n",
       "      <td>2.663900e+04</td>\n",
       "      <td>2.663900e+04</td>\n",
       "    </tr>\n",
       "    <tr>\n",
       "      <th>mean</th>\n",
       "      <td>2.279864e+06</td>\n",
       "      <td>2.278536e+03</td>\n",
       "    </tr>\n",
       "    <tr>\n",
       "      <th>std</th>\n",
       "      <td>1.577202e+06</td>\n",
       "      <td>2.929748e+04</td>\n",
       "    </tr>\n",
       "    <tr>\n",
       "      <th>min</th>\n",
       "      <td>1.390000e+02</td>\n",
       "      <td>1.000000e+00</td>\n",
       "    </tr>\n",
       "    <tr>\n",
       "      <th>25%</th>\n",
       "      <td>1.087642e+06</td>\n",
       "      <td>6.868100e+02</td>\n",
       "    </tr>\n",
       "    <tr>\n",
       "      <th>50%</th>\n",
       "      <td>2.137413e+06</td>\n",
       "      <td>1.172000e+03</td>\n",
       "    </tr>\n",
       "    <tr>\n",
       "      <th>75%</th>\n",
       "      <td>3.180162e+06</td>\n",
       "      <td>1.228080e+03</td>\n",
       "    </tr>\n",
       "    <tr>\n",
       "      <th>max</th>\n",
       "      <td>6.113971e+06</td>\n",
       "      <td>4.075401e+06</td>\n",
       "    </tr>\n",
       "  </tbody>\n",
       "</table>\n",
       "</div>"
      ],
      "text/plain": [
       "              IDpol   PurePremium\n",
       "count  2.663900e+04  2.663900e+04\n",
       "mean   2.279864e+06  2.278536e+03\n",
       "std    1.577202e+06  2.929748e+04\n",
       "min    1.390000e+02  1.000000e+00\n",
       "25%    1.087642e+06  6.868100e+02\n",
       "50%    2.137413e+06  1.172000e+03\n",
       "75%    3.180162e+06  1.228080e+03\n",
       "max    6.113971e+06  4.075401e+06"
      ]
     },
     "execution_count": 11,
     "metadata": {},
     "output_type": "execute_result"
    }
   ],
   "source": [
    "data_sev = arff.load('freMTPL2sev.arff') \n",
    "CLAIMS = pd.DataFrame(data_sev, columns=[\"IDpol\", \"PurePremium\"])\n",
    "CLAIMS.head()\n",
    "CLAIMS.info()\n",
    "CLAIMS.describe()"
   ]
  },
  {
   "cell_type": "code",
   "execution_count": 12,
   "metadata": {},
   "outputs": [],
   "source": [
    "\n",
    "CLAIMS = CLAIMS.groupby('IDpol')['PurePremium'].sum().reset_index()\n",
    "# 24950 rows × 2 columns"
   ]
  },
  {
   "cell_type": "code",
   "execution_count": 13,
   "metadata": {},
   "outputs": [],
   "source": [
    "# Perform an inner Join to merge the two dataframes\n",
    "claims = pd.merge(CONTRACTS, CLAIMS, on='IDpol', how='inner')"
   ]
  },
  {
   "cell_type": "code",
   "execution_count": 14,
   "metadata": {},
   "outputs": [
    {
     "data": {
      "text/plain": [
       "<bound method DataFrame.info of            IDpol  ClaimNb  EXPOSURE Area  POWER AGECAR  AGEDRIVER  BonusMalus  \\\n",
       "0          139.0      1.0      0.75  'F'    7.0   0-15       61.0        50.0   \n",
       "1          190.0      1.0      0.14  'B'   12.0   0-15       50.0        60.0   \n",
       "2          414.0      1.0      0.14  'E'    4.0   0-15       36.0        85.0   \n",
       "3          424.0      2.0      0.62  'F'   10.0   0-15       51.0       100.0   \n",
       "4          463.0      1.0      0.31  'A'    5.0   0-15       45.0        50.0   \n",
       "...          ...      ...       ...  ...    ...    ...        ...         ...   \n",
       "24939  6113521.0      1.0      0.18  'C'    4.0   0-15       26.0        60.0   \n",
       "24940  6113793.0      1.0      0.14  'C'    7.0   0-15       51.0        50.0   \n",
       "24941  6113817.0      1.0      0.17  'D'    4.0   0-15       35.0        51.0   \n",
       "24942  6113834.0      2.0      0.17  'C'   15.0   0-15       36.0        50.0   \n",
       "24943  6113971.0      1.0      0.13  'D'    7.0   0-15       39.0        50.0   \n",
       "\n",
       "      BRAND      GAZ  DENSITY REGION brandF  PurePremium  \n",
       "0       B12  Regular  27000.0  'R11'    B12       303.00  \n",
       "1       B12   Diesel     56.0  'R25'    B12      1981.84  \n",
       "2       B12  Regular   4792.0  'R11'    B12      1456.55  \n",
       "3       B12  Regular  27000.0  'R11'    B12     10834.00  \n",
       "4       B12  Regular     12.0  'R73'    B12      3986.67  \n",
       "...     ...      ...      ...    ...    ...          ...  \n",
       "24939   B12   Diesel    311.0  'R82'    B12      1324.40  \n",
       "24940   B12   Diesel    178.0  'R72'    B12      1769.88  \n",
       "24941   B12  Regular   1719.0  'R82'    B12      1288.28  \n",
       "24942   B12  Regular    181.0  'R54'    B12     12230.40  \n",
       "24943    B4  Regular    820.0  'R41'  other      1452.00  \n",
       "\n",
       "[24944 rows x 14 columns]>"
      ]
     },
     "execution_count": 14,
     "metadata": {},
     "output_type": "execute_result"
    }
   ],
   "source": [
    "claims.info"
   ]
  },
  {
   "cell_type": "code",
   "execution_count": null,
   "metadata": {},
   "outputs": [],
   "source": []
  },
  {
   "cell_type": "markdown",
   "metadata": {},
   "source": [
    "# Log based Linear Regression with filtered Claim Amount/PurePremium"
   ]
  },
  {
   "cell_type": "code",
   "execution_count": 16,
   "metadata": {},
   "outputs": [
    {
     "name": "stdout",
     "output_type": "stream",
     "text": [
      "                             OLS Regression Results                            \n",
      "===============================================================================\n",
      "Dep. Variable:     np.log(PurePremium)   R-squared:                       0.000\n",
      "Model:                             OLS   Adj. R-squared:                  0.000\n",
      "Method:                  Least Squares   F-statistic:                     1.279\n",
      "Date:                 Mon, 22 Apr 2024   Prob (F-statistic):              0.278\n",
      "Time:                         07:35:50   Log-Likelihood:                -36466.\n",
      "No. Observations:                24626   AIC:                         7.294e+04\n",
      "Df Residuals:                    24623   BIC:                         7.296e+04\n",
      "Df Model:                            2                                         \n",
      "Covariance Type:             nonrobust                                         \n",
      "====================================================================================\n",
      "                       coef    std err          t      P>|t|      [0.025      0.975]\n",
      "------------------------------------------------------------------------------------\n",
      "Intercept            6.8590      0.010    715.922      0.000       6.840       6.878\n",
      "AGECAR[T.16-Inf]    -0.0094      0.028     -0.338      0.735      -0.064       0.045\n",
      "GAZ[T.Regular]      -0.0208      0.014     -1.532      0.126      -0.047       0.006\n",
      "==============================================================================\n",
      "Omnibus:                     5211.147   Durbin-Watson:                   1.981\n",
      "Prob(Omnibus):                  0.000   Jarque-Bera (JB):            13090.620\n",
      "Skew:                          -1.164   Prob(JB):                         0.00\n",
      "Kurtosis:                       5.709   Cond. No.                         4.68\n",
      "==============================================================================\n",
      "\n",
      "Notes:\n",
      "[1] Standard Errors assume that the covariance matrix of the errors is correctly specified.\n"
     ]
    }
   ],
   "source": [
    "import statsmodels.api as sm\n",
    "import pandas as pd\n",
    "\n",
    "# Filter the data where PurePremium is less than 15000\n",
    "claims_filtered = claims[claims['PurePremium'] < 15000]\n",
    "\n",
    "# Linear regression model with log-transformed dependent variable\n",
    "reg_logn = sm.OLS.from_formula('np.log(PurePremium) ~ AGECAR + GAZ', data=claims_filtered).fit()\n",
    "print(reg_logn.summary())"
   ]
  },
  {
   "cell_type": "code",
   "execution_count": 17,
   "metadata": {},
   "outputs": [
    {
     "name": "stdout",
     "output_type": "stream",
     "text": [
      "                 Generalized Linear Model Regression Results                  \n",
      "==============================================================================\n",
      "Dep. Variable:            PurePremium   No. Observations:                24626\n",
      "Model:                            GLM   Df Residuals:                    24623\n",
      "Model Family:                   Gamma   Df Model:                            2\n",
      "Link Function:          inverse_power   Scale:                          1.2339\n",
      "Method:                          IRLS   Log-Likelihood:            -2.0511e+05\n",
      "Date:                Mon, 22 Apr 2024   Deviance:                       21757.\n",
      "Time:                        07:35:55   Pearson chi2:                 3.04e+04\n",
      "No. Iterations:                     8   Pseudo R-squ. (CS):          0.0003854\n",
      "Covariance Type:            nonrobust                                         \n",
      "=================================================================================\n",
      "                    coef    std err          z      P>|z|      [0.025      0.975]\n",
      "---------------------------------------------------------------------------------\n",
      "const             0.0007   6.73e-06     99.753      0.000       0.001       0.001\n",
      "AGECAR_16-Inf  5.207e-05   2.11e-05      2.464      0.014    1.06e-05    9.35e-05\n",
      "GAZ_Regular     1.53e-05   9.69e-06      1.579      0.114    -3.7e-06    3.43e-05\n",
      "=================================================================================\n"
     ]
    },
    {
     "name": "stderr",
     "output_type": "stream",
     "text": [
      "c:\\Users\\ADMIN\\anaconda3\\lib\\site-packages\\sklearn\\preprocessing\\_encoders.py:828: FutureWarning: `sparse` was renamed to `sparse_output` in version 1.2 and will be removed in 1.4. `sparse_output` is ignored unless you leave `sparse` to its default value.\n",
      "  warnings.warn(\n",
      "c:\\Users\\ADMIN\\anaconda3\\lib\\site-packages\\statsmodels\\genmod\\generalized_linear_model.py:298: DomainWarning: The inverse_power link function does not respect the domain of the Gamma family.\n",
      "  warnings.warn((f\"The {type(family.link).__name__} link function \"\n"
     ]
    }
   ],
   "source": [
    "# gamma GLM model with log-transformed dependent variable\n",
    "\n",
    "import pandas as pd\n",
    "import statsmodels.api as sm\n",
    "from sklearn.preprocessing import OneHotEncoder\n",
    "\n",
    "# Filter the data where PurePremium is less than 15000\n",
    "claims_filtered = claims[claims['PurePremium'] < 15000]\n",
    "\n",
    "# Select predictor variables (X) and response variable (y)\n",
    "X = claims_filtered[['AGECAR', 'GAZ']]\n",
    "y = claims_filtered['PurePremium']\n",
    "\n",
    "# One-hot encode categorical variables\n",
    "encoder = OneHotEncoder(drop='first', sparse=False)\n",
    "X_encoded = encoder.fit_transform(X)\n",
    "\n",
    "# Convert encoded features to DataFrame\n",
    "X_encoded_df = pd.DataFrame(X_encoded, columns=encoder.get_feature_names_out(X.columns))\n",
    "\n",
    "# Reset indices of X_encoded_df and y to ensure alignment\n",
    "X_encoded_df.reset_index(drop=True, inplace=True)\n",
    "y.reset_index(drop=True, inplace=True)\n",
    "\n",
    "# Fit the gamma GLM model\n",
    "reg_gamma = sm.GLM(y, sm.add_constant(X_encoded_df), family=sm.families.Gamma()).fit()\n",
    "\n",
    "# Display summary for the gamma GLM model\n",
    "print(reg_gamma.summary())\n"
   ]
  }
 ],
 "metadata": {
  "kernelspec": {
   "display_name": "base",
   "language": "python",
   "name": "python3"
  },
  "language_info": {
   "codemirror_mode": {
    "name": "ipython",
    "version": 3
   },
   "file_extension": ".py",
   "mimetype": "text/x-python",
   "name": "python",
   "nbconvert_exporter": "python",
   "pygments_lexer": "ipython3",
   "version": "3.10.9"
  }
 },
 "nbformat": 4,
 "nbformat_minor": 2
}
